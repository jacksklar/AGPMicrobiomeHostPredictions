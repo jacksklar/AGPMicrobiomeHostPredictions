{
 "cells": [
  {
   "cell_type": "markdown",
   "metadata": {},
   "source": [
    "### American Gut Project File Metadata:\n"
   ]
  },
  {
   "cell_type": "markdown",
   "metadata": {},
   "source": [
    "   - get file metadata from European Nucleotide Archive, and from SRA/NCBI\n",
    "   - Remove samples not sampling the human gut metagenome\n",
    "   - return list of ftp paths to download the remaining files\n",
    "   - return file metadata in csv\n",
    "   - return sample metadata in csv"
   ]
  },
  {
   "cell_type": "code",
   "execution_count": 1,
   "metadata": {},
   "outputs": [],
   "source": [
    "import numpy as np\n",
    "import pandas as pd\n",
    "import matplotlib.pyplot as plt"
   ]
  },
  {
   "cell_type": "markdown",
   "metadata": {},
   "source": [
    "##### Metadata from ENA:"
   ]
  },
  {
   "cell_type": "code",
   "execution_count": 2,
   "metadata": {},
   "outputs": [
    {
     "name": "stdout",
     "output_type": "stream",
     "text": [
      "(25411, 5)\n"
     ]
    },
    {
     "data": {
      "text/html": [
       "<div>\n",
       "<style scoped>\n",
       "    .dataframe tbody tr th:only-of-type {\n",
       "        vertical-align: middle;\n",
       "    }\n",
       "\n",
       "    .dataframe tbody tr th {\n",
       "        vertical-align: top;\n",
       "    }\n",
       "\n",
       "    .dataframe thead th {\n",
       "        text-align: right;\n",
       "    }\n",
       "</style>\n",
       "<table border=\"1\" class=\"dataframe\">\n",
       "  <thead>\n",
       "    <tr style=\"text-align: right;\">\n",
       "      <th></th>\n",
       "      <th>sample_accession</th>\n",
       "      <th>secondary_sample_accession</th>\n",
       "      <th>run_accession</th>\n",
       "      <th>run_alias</th>\n",
       "      <th>fastq_ftp</th>\n",
       "    </tr>\n",
       "  </thead>\n",
       "  <tbody>\n",
       "    <tr>\n",
       "      <th>0</th>\n",
       "      <td>SAMEA3607589</td>\n",
       "      <td>ERS914738</td>\n",
       "      <td>ERR1072624</td>\n",
       "      <td>qiita_ppdid_614:10317.000001002</td>\n",
       "      <td>ftp.sra.ebi.ac.uk/vol1/fastq/ERR107/004/ERR107...</td>\n",
       "    </tr>\n",
       "    <tr>\n",
       "      <th>1</th>\n",
       "      <td>SAMEA3607590</td>\n",
       "      <td>ERS914739</td>\n",
       "      <td>ERR1072625</td>\n",
       "      <td>qiita_ppdid_614:10317.000001004</td>\n",
       "      <td>ftp.sra.ebi.ac.uk/vol1/fastq/ERR107/005/ERR107...</td>\n",
       "    </tr>\n",
       "    <tr>\n",
       "      <th>2</th>\n",
       "      <td>SAMEA3607591</td>\n",
       "      <td>ERS914740</td>\n",
       "      <td>ERR1072626</td>\n",
       "      <td>qiita_ppdid_614:10317.000001008</td>\n",
       "      <td>ftp.sra.ebi.ac.uk/vol1/fastq/ERR107/006/ERR107...</td>\n",
       "    </tr>\n",
       "    <tr>\n",
       "      <th>3</th>\n",
       "      <td>SAMEA3607592</td>\n",
       "      <td>ERS914741</td>\n",
       "      <td>ERR1072627</td>\n",
       "      <td>qiita_ppdid_614:10317.000001018</td>\n",
       "      <td>ftp.sra.ebi.ac.uk/vol1/fastq/ERR107/007/ERR107...</td>\n",
       "    </tr>\n",
       "    <tr>\n",
       "      <th>4</th>\n",
       "      <td>SAMEA3607593</td>\n",
       "      <td>ERS914742</td>\n",
       "      <td>ERR1072628</td>\n",
       "      <td>qiita_ppdid_614:10317.000001028</td>\n",
       "      <td>ftp.sra.ebi.ac.uk/vol1/fastq/ERR107/008/ERR107...</td>\n",
       "    </tr>\n",
       "  </tbody>\n",
       "</table>\n",
       "</div>"
      ],
      "text/plain": [
       "  sample_accession secondary_sample_accession run_accession  \\\n",
       "0     SAMEA3607589                  ERS914738    ERR1072624   \n",
       "1     SAMEA3607590                  ERS914739    ERR1072625   \n",
       "2     SAMEA3607591                  ERS914740    ERR1072626   \n",
       "3     SAMEA3607592                  ERS914741    ERR1072627   \n",
       "4     SAMEA3607593                  ERS914742    ERR1072628   \n",
       "\n",
       "                         run_alias  \\\n",
       "0  qiita_ppdid_614:10317.000001002   \n",
       "1  qiita_ppdid_614:10317.000001004   \n",
       "2  qiita_ppdid_614:10317.000001008   \n",
       "3  qiita_ppdid_614:10317.000001018   \n",
       "4  qiita_ppdid_614:10317.000001028   \n",
       "\n",
       "                                           fastq_ftp  \n",
       "0  ftp.sra.ebi.ac.uk/vol1/fastq/ERR107/004/ERR107...  \n",
       "1  ftp.sra.ebi.ac.uk/vol1/fastq/ERR107/005/ERR107...  \n",
       "2  ftp.sra.ebi.ac.uk/vol1/fastq/ERR107/006/ERR107...  \n",
       "3  ftp.sra.ebi.ac.uk/vol1/fastq/ERR107/007/ERR107...  \n",
       "4  ftp.sra.ebi.ac.uk/vol1/fastq/ERR107/008/ERR107...  "
      ]
     },
     "execution_count": 2,
     "metadata": {},
     "output_type": "execute_result"
    }
   ],
   "source": [
    "file_data = pd.read_csv(\"~/Desktop/Metadata/ENAfileInfo.txt\", sep =\"\\t\")\n",
    "print(file_data.shape)\n",
    "file_data.head()"
   ]
  },
  {
   "cell_type": "markdown",
   "metadata": {},
   "source": [
    "##### Metadata from SRA:"
   ]
  },
  {
   "cell_type": "code",
   "execution_count": 3,
   "metadata": {
    "scrolled": true
   },
   "outputs": [
    {
     "name": "stdout",
     "output_type": "stream",
     "text": [
      "(25411, 47)\n"
     ]
    }
   ],
   "source": [
    "sra_data = pd.read_csv(\"~/Desktop/Metadata/SraRunInfo.csv\")\n",
    "print(sra_data.shape)"
   ]
  },
  {
   "cell_type": "code",
   "execution_count": 4,
   "metadata": {
    "scrolled": true
   },
   "outputs": [
    {
     "name": "stdout",
     "output_type": "stream",
     "text": [
      "human gut metagenome               19990\n",
      "metagenome                          2147\n",
      "human oral metagenome               1382\n",
      "human skin metagenome               1239\n",
      "metagenomes                          258\n",
      "human nasopharyngeal metagenome      207\n",
      "human metagenome                      72\n",
      "human eye metagenome                  54\n",
      "human vaginal metagenome              45\n",
      "food metagenome                       10\n",
      "vaginal metagenome                     5\n",
      "feces metagenome                       1\n",
      "gut metagenome                         1\n",
      "Name: ScientificName, dtype: int64\n"
     ]
    }
   ],
   "source": [
    "print(sra_data[\"ScientificName\"].value_counts())"
   ]
  },
  {
   "cell_type": "code",
   "execution_count": 5,
   "metadata": {},
   "outputs": [],
   "source": [
    "sra_gut_data = sra_data[sra_data[\"ScientificName\"] == \"human gut metagenome\"]\n",
    "cols = [\"Run\",\"spots\",\"bases\",\"avgLength\",\"LibraryName\",\"Platform\",\"Model\",\"Sample\", \"BioSample\",\"Sex\", \"Submission\"]\n",
    "sra_gut_data = sra_gut_data.loc[:, cols]"
   ]
  },
  {
   "cell_type": "code",
   "execution_count": 6,
   "metadata": {},
   "outputs": [
    {
     "name": "stdout",
     "output_type": "stream",
     "text": [
      "(19990, 5)\n"
     ]
    }
   ],
   "source": [
    "### Keep ENA metadata of samples from the human ut metagenome (Sample site not included in ENA)\n",
    "file_data_keep = file_data[file_data[\"run_accession\"].isin(sra_gut_data[\"Run\"])]\n",
    "print file_data_keep.shape"
   ]
  },
  {
   "cell_type": "code",
   "execution_count": 7,
   "metadata": {},
   "outputs": [],
   "source": [
    "file_data_keep.index = file_data_keep[\"run_accession\"]\n",
    "sra_gut_data.index = sra_gut_data[\"Run\"]\n",
    "cols = [\"fastq_ftp\"]\n",
    "file_data_keep = file_data_keep.loc[:, cols]"
   ]
  },
  {
   "cell_type": "markdown",
   "metadata": {},
   "source": [
    "##### Combined File Metadata (SRA /ENA)"
   ]
  },
  {
   "cell_type": "code",
   "execution_count": 8,
   "metadata": {},
   "outputs": [
    {
     "name": "stdout",
     "output_type": "stream",
     "text": [
      "(19990, 12)\n"
     ]
    },
    {
     "data": {
      "text/html": [
       "<div>\n",
       "<style scoped>\n",
       "    .dataframe tbody tr th:only-of-type {\n",
       "        vertical-align: middle;\n",
       "    }\n",
       "\n",
       "    .dataframe tbody tr th {\n",
       "        vertical-align: top;\n",
       "    }\n",
       "\n",
       "    .dataframe thead th {\n",
       "        text-align: right;\n",
       "    }\n",
       "</style>\n",
       "<table border=\"1\" class=\"dataframe\">\n",
       "  <thead>\n",
       "    <tr style=\"text-align: right;\">\n",
       "      <th></th>\n",
       "      <th>fastq_ftp</th>\n",
       "      <th>Run</th>\n",
       "      <th>spots</th>\n",
       "      <th>bases</th>\n",
       "      <th>avgLength</th>\n",
       "      <th>LibraryName</th>\n",
       "      <th>Platform</th>\n",
       "      <th>Model</th>\n",
       "      <th>Sample</th>\n",
       "      <th>BioSample</th>\n",
       "      <th>Sex</th>\n",
       "      <th>Submission</th>\n",
       "    </tr>\n",
       "  </thead>\n",
       "  <tbody>\n",
       "    <tr>\n",
       "      <th>ERR1072624</th>\n",
       "      <td>ftp.sra.ebi.ac.uk/vol1/fastq/ERR107/004/ERR107...</td>\n",
       "      <td>ERR1072624</td>\n",
       "      <td>17838</td>\n",
       "      <td>2688198</td>\n",
       "      <td>150</td>\n",
       "      <td>10317.000001002</td>\n",
       "      <td>ILLUMINA</td>\n",
       "      <td>Illumina MiSeq</td>\n",
       "      <td>ERS914738</td>\n",
       "      <td>SAMEA3607589</td>\n",
       "      <td>female</td>\n",
       "      <td>ERA524627</td>\n",
       "    </tr>\n",
       "    <tr>\n",
       "      <th>ERR1072625</th>\n",
       "      <td>ftp.sra.ebi.ac.uk/vol1/fastq/ERR107/005/ERR107...</td>\n",
       "      <td>ERR1072625</td>\n",
       "      <td>21267</td>\n",
       "      <td>3198000</td>\n",
       "      <td>150</td>\n",
       "      <td>10317.000001004</td>\n",
       "      <td>ILLUMINA</td>\n",
       "      <td>Illumina MiSeq</td>\n",
       "      <td>ERS914739</td>\n",
       "      <td>SAMEA3607590</td>\n",
       "      <td>female</td>\n",
       "      <td>ERA524627</td>\n",
       "    </tr>\n",
       "    <tr>\n",
       "      <th>ERR1072626</th>\n",
       "      <td>ftp.sra.ebi.ac.uk/vol1/fastq/ERR107/006/ERR107...</td>\n",
       "      <td>ERR1072626</td>\n",
       "      <td>25136</td>\n",
       "      <td>3787410</td>\n",
       "      <td>150</td>\n",
       "      <td>10317.000001008</td>\n",
       "      <td>ILLUMINA</td>\n",
       "      <td>Illumina MiSeq</td>\n",
       "      <td>ERS914740</td>\n",
       "      <td>SAMEA3607591</td>\n",
       "      <td>female</td>\n",
       "      <td>ERA524627</td>\n",
       "    </tr>\n",
       "    <tr>\n",
       "      <th>ERR1072627</th>\n",
       "      <td>ftp.sra.ebi.ac.uk/vol1/fastq/ERR107/007/ERR107...</td>\n",
       "      <td>ERR1072627</td>\n",
       "      <td>8842</td>\n",
       "      <td>1326488</td>\n",
       "      <td>150</td>\n",
       "      <td>10317.000001018</td>\n",
       "      <td>ILLUMINA</td>\n",
       "      <td>Illumina MiSeq</td>\n",
       "      <td>ERS914741</td>\n",
       "      <td>SAMEA3607592</td>\n",
       "      <td>male</td>\n",
       "      <td>ERA524627</td>\n",
       "    </tr>\n",
       "    <tr>\n",
       "      <th>ERR1072628</th>\n",
       "      <td>ftp.sra.ebi.ac.uk/vol1/fastq/ERR107/008/ERR107...</td>\n",
       "      <td>ERR1072628</td>\n",
       "      <td>24918</td>\n",
       "      <td>3753923</td>\n",
       "      <td>150</td>\n",
       "      <td>10317.000001028</td>\n",
       "      <td>ILLUMINA</td>\n",
       "      <td>Illumina MiSeq</td>\n",
       "      <td>ERS914742</td>\n",
       "      <td>SAMEA3607593</td>\n",
       "      <td>female</td>\n",
       "      <td>ERA524627</td>\n",
       "    </tr>\n",
       "  </tbody>\n",
       "</table>\n",
       "</div>"
      ],
      "text/plain": [
       "                                                    fastq_ftp         Run  \\\n",
       "ERR1072624  ftp.sra.ebi.ac.uk/vol1/fastq/ERR107/004/ERR107...  ERR1072624   \n",
       "ERR1072625  ftp.sra.ebi.ac.uk/vol1/fastq/ERR107/005/ERR107...  ERR1072625   \n",
       "ERR1072626  ftp.sra.ebi.ac.uk/vol1/fastq/ERR107/006/ERR107...  ERR1072626   \n",
       "ERR1072627  ftp.sra.ebi.ac.uk/vol1/fastq/ERR107/007/ERR107...  ERR1072627   \n",
       "ERR1072628  ftp.sra.ebi.ac.uk/vol1/fastq/ERR107/008/ERR107...  ERR1072628   \n",
       "\n",
       "            spots    bases  avgLength      LibraryName  Platform  \\\n",
       "ERR1072624  17838  2688198        150  10317.000001002  ILLUMINA   \n",
       "ERR1072625  21267  3198000        150  10317.000001004  ILLUMINA   \n",
       "ERR1072626  25136  3787410        150  10317.000001008  ILLUMINA   \n",
       "ERR1072627   8842  1326488        150  10317.000001018  ILLUMINA   \n",
       "ERR1072628  24918  3753923        150  10317.000001028  ILLUMINA   \n",
       "\n",
       "                     Model     Sample     BioSample     Sex Submission  \n",
       "ERR1072624  Illumina MiSeq  ERS914738  SAMEA3607589  female  ERA524627  \n",
       "ERR1072625  Illumina MiSeq  ERS914739  SAMEA3607590  female  ERA524627  \n",
       "ERR1072626  Illumina MiSeq  ERS914740  SAMEA3607591  female  ERA524627  \n",
       "ERR1072627  Illumina MiSeq  ERS914741  SAMEA3607592    male  ERA524627  \n",
       "ERR1072628  Illumina MiSeq  ERS914742  SAMEA3607593  female  ERA524627  "
      ]
     },
     "execution_count": 8,
     "metadata": {},
     "output_type": "execute_result"
    }
   ],
   "source": [
    "full_data = pd.concat([file_data_keep, sra_gut_data], axis=1, sort=False)\n",
    "print(full_data.shape)\n",
    "full_data.head()"
   ]
  },
  {
   "cell_type": "markdown",
   "metadata": {},
   "source": [
    "##### Value counts of average sequence length of all samples:"
   ]
  },
  {
   "cell_type": "code",
   "execution_count": 9,
   "metadata": {},
   "outputs": [
    {
     "name": "stdout",
     "output_type": "stream",
     "text": [
      "150    14951\n",
      "151     3466\n",
      "126      429\n",
      "149      388\n",
      "148      308\n",
      "139       97\n",
      "138       94\n",
      "140       53\n",
      "147       37\n",
      "137       33\n",
      "141       32\n",
      "142       26\n",
      "143       18\n",
      "146       17\n",
      "136       12\n",
      "145        9\n",
      "144        7\n",
      "135        5\n",
      "99         4\n",
      "133        2\n",
      "134        1\n",
      "131        1\n",
      "Name: avgLength, dtype: int64\n"
     ]
    }
   ],
   "source": [
    "print(full_data['avgLength'].value_counts())"
   ]
  },
  {
   "cell_type": "markdown",
   "metadata": {},
   "source": [
    "##### Value Counts of Instruments used to process samples:\n"
   ]
  },
  {
   "cell_type": "markdown",
   "metadata": {},
   "source": [
    "- important process fastq files processed using different instruments seperately into OTU tables (using Dada2)\n",
    "- Seperate OTU table will be merged after confirming that the they do not cluster significantly by processing instrument"
   ]
  },
  {
   "cell_type": "code",
   "execution_count": 10,
   "metadata": {},
   "outputs": [
    {
     "name": "stdout",
     "output_type": "stream",
     "text": [
      "Illumina MiSeq         17417\n",
      "Illumina HiSeq 2500     2144\n",
      "Illumina HiSeq 2000      429\n",
      "Name: Model, dtype: int64\n"
     ]
    }
   ],
   "source": [
    "print(full_data['Model'].value_counts())"
   ]
  },
  {
   "cell_type": "markdown",
   "metadata": {},
   "source": [
    "- seperate file names into different files to be downloaded (ftp) into different folders\n"
   ]
  },
  {
   "cell_type": "code",
   "execution_count": 11,
   "metadata": {},
   "outputs": [],
   "source": [
    "HiSeq2500_list = full_data.loc[full_data['Model'] == 'Illumina HiSeq 2500', \"Run\"]\n",
    "HiSeq2000_list = full_data.loc[full_data['Model'] == 'Illumina HiSeq 2000', \"Run\"]\n",
    "MiSeq_list = full_data.loc[full_data['Model'] == 'Illumina MiSeq', \"Run\"]\n",
    "MiSeq_list = MiSeq_list.sample(frac = 1) ##shuffling list (make sure larger files are distributed evenly)\n",
    "\n",
    "\n",
    "HiSeq2500_list.to_csv(\"./File_lists/HiSeq2500_list.txt\", index = False)\n",
    "HiSeq2000_list.to_csv(\"./File_lists/HiSeq2000_list.txt\", index = False)\n",
    "MiSeq_list.to_csv(\"./File_lists/MiSeq_list.txt\", index = False)"
   ]
  },
  {
   "cell_type": "markdown",
   "metadata": {},
   "source": [
    "##### Histogram of Sequencing Depth over all samples (outliers clipped):"
   ]
  },
  {
   "cell_type": "code",
   "execution_count": 12,
   "metadata": {
    "scrolled": true
   },
   "outputs": [
    {
     "data": {
      "image/png": "[encoded data removed]",
      "text/plain": [
       "<Figure size 432x288 with 1 Axes>"
      ]
     },
     "metadata": {
      "needs_background": "light"
     },
     "output_type": "display_data"
    }
   ],
   "source": [
    "plot_data = full_data.loc[full_data[\"bases\"] < 0.5e8,\"bases\"]\n",
    "plt.hist(plot_data, bins = 100)\n",
    "plt.show()\n"
   ]
  },
  {
   "cell_type": "code",
   "execution_count": 13,
   "metadata": {},
   "outputs": [
    {
     "data": {
      "text/html": [
       "<div>\n",
       "<style scoped>\n",
       "    .dataframe tbody tr th:only-of-type {\n",
       "        vertical-align: middle;\n",
       "    }\n",
       "\n",
       "    .dataframe tbody tr th {\n",
       "        vertical-align: top;\n",
       "    }\n",
       "\n",
       "    .dataframe thead th {\n",
       "        text-align: right;\n",
       "    }\n",
       "</style>\n",
       "<table border=\"1\" class=\"dataframe\">\n",
       "  <thead>\n",
       "    <tr style=\"text-align: right;\">\n",
       "      <th></th>\n",
       "      <th>fastq_ftp</th>\n",
       "      <th>Run</th>\n",
       "      <th>spots</th>\n",
       "      <th>bases</th>\n",
       "      <th>avgLength</th>\n",
       "      <th>LibraryName</th>\n",
       "      <th>Platform</th>\n",
       "      <th>Model</th>\n",
       "      <th>Sample</th>\n",
       "      <th>BioSample</th>\n",
       "      <th>Sex</th>\n",
       "      <th>Submission</th>\n",
       "    </tr>\n",
       "  </thead>\n",
       "  <tbody>\n",
       "  </tbody>\n",
       "</table>\n",
       "</div>"
      ],
      "text/plain": [
       "Empty DataFrame\n",
       "Columns: [fastq_ftp, Run, spots, bases, avgLength, LibraryName, Platform, Model, Sample, BioSample, Sex, Submission]\n",
       "Index: []"
      ]
     },
     "execution_count": 13,
     "metadata": {},
     "output_type": "execute_result"
    }
   ],
   "source": [
    "temp = full_data[full_data[\"fastq_ftp\"] == np.nan]\n",
    "temp.head()"
   ]
  },
  {
   "cell_type": "code",
   "execution_count": 14,
   "metadata": {},
   "outputs": [],
   "source": [
    "full_data.to_csv(\"./AGPFileMetadata.txt\", index = False)\n",
    "full_data[\"fastq_ftp\"].to_csv(\"./File_lists/FastqList.txt\", index = False)"
   ]
  }
 ],
 "metadata": {
  "kernelspec": {
   "display_name": "Python 2",
   "language": "python",
   "name": "python2"
  },
  "language_info": {
   "codemirror_mode": {
    "name": "ipython",
    "version": 2
   },
   "file_extension": ".py",
   "mimetype": "text/x-python",
   "name": "python",
   "nbconvert_exporter": "python",
   "pygments_lexer": "ipython2",
   "version": "2.7.15"
  }
 },
 "nbformat": 4,
 "nbformat_minor": 2
}
